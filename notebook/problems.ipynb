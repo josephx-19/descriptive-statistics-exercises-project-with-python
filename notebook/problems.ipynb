{
 "cells": [
  {
   "cell_type": "markdown",
   "id": "ac622319",
   "metadata": {},
   "source": [
    "# Descriptive statistics problems"
   ]
  },
  {
   "cell_type": "markdown",
   "id": "5e0ab0d5",
   "metadata": {},
   "source": [
    "### Exercise 1\n",
    "\n",
    "We will use NumPy to obtain information to describe statistically.\n",
    "\n",
    "- Generate an array of 100 elements following a normal distribution.\n",
    "- Generate an array of 100 elements following a chi-square distribution with 3 degrees of freedom.\n",
    "- Calculate the main metrics and statistical measures that best describe the two vectors."
   ]
  },
  {
   "cell_type": "code",
   "execution_count": 22,
   "id": "34720ab6",
   "metadata": {},
   "outputs": [
    {
     "name": "stdout",
     "output_type": "stream",
     "text": [
      "[-4.06367252e-01 -1.70588231e-01  6.85493284e-01  3.16605390e-01\n",
      "  1.04440601e+00 -4.27457725e-01  4.87574549e-01  8.32622764e-01\n",
      "  7.33847286e-01  9.63426012e-01  6.49005864e-01  4.43964004e-01\n",
      "  1.42144538e+00  9.37124460e-02  1.39737972e-01  1.84331501e+00\n",
      " -5.67909096e-03 -3.45889198e-01  1.45129627e-01 -6.58383644e-01\n",
      "  9.97488676e-01  7.83783111e-01  9.57250855e-02  2.86731305e-01\n",
      "  4.70650058e-01 -4.86502838e-01  8.04426368e-01  6.20078063e-01\n",
      " -2.99904172e-01 -3.21891034e-02  3.09052012e-02  6.22612886e-01\n",
      " -1.58372024e-01  2.41179012e-01  1.01376350e+00  3.56554049e-01\n",
      "  1.66644983e-01  1.28070525e+00  8.70543614e-02 -8.61311839e-01\n",
      " -4.63063900e-01 -8.85229678e-01 -9.34261548e-02  1.47915642e+00\n",
      "  6.29412493e-01  1.31655212e+00 -5.25070610e-04  1.49610355e+00\n",
      " -8.48652131e-01 -6.14750893e-01 -1.31074586e-01  4.57893133e-01\n",
      " -1.45650910e+00  1.84559762e+00 -8.37681715e-01 -1.57870158e+00\n",
      "  7.67490906e-01 -1.09569831e+00 -1.30297309e-01  1.87637562e-01\n",
      "  1.28559311e+00 -6.20018732e-01  5.93640244e-01  7.79585965e-01\n",
      " -1.54618372e+00  1.90022422e+00  5.18114354e-01  3.66527900e-03\n",
      "  6.23598477e-01  9.42648590e-01  2.23198206e+00 -5.84192230e-01\n",
      " -4.47845013e-01 -2.93247856e-01 -7.96847115e-01  2.57102620e+00\n",
      "  1.44074166e+00 -8.84160047e-01 -3.49831982e-01  1.05650271e-01\n",
      " -2.86212267e-01  2.85991330e-01 -3.57134759e-01 -3.63480981e-01\n",
      "  2.15711912e+00 -9.58056645e-01  5.36538210e-01  1.77309056e+00\n",
      " -1.39294019e-01 -2.02962327e-01  4.56844215e-01 -6.22132214e-03\n",
      " -1.07621138e+00  7.98699711e-01 -2.47404359e+00 -6.63934428e-01\n",
      "  4.10160122e-01  1.92727222e-01 -8.22368777e-01 -5.70418887e-01]\n",
      "[ 0.20936463  2.31888229  1.40723783  1.85032578  1.10748411  0.45492048\n",
      "  2.02895821  1.54944243  6.42756625  1.70163663  5.1237361   1.68388345\n",
      "  3.83736118  2.76025236  1.25621382  3.7301282   5.10933113  3.34636895\n",
      "  2.65061459  1.53631579  4.11606125  3.22133724  1.5234805  10.82914028\n",
      "  7.50040895  0.75077463  4.88826624  3.58071538  1.26305763  3.05795478\n",
      "  3.03828821  1.71555163  2.62481728  5.37978244  3.89671814  3.33796842\n",
      "  1.35856866  0.65228258  0.38795432  3.24418281  4.35645995  1.16961455\n",
      "  1.79366365  6.78289703  7.78914642  0.14441836  0.98162864  0.60024952\n",
      "  4.61162214  1.40562734  1.24172402  0.92877965  1.62450541  3.19222948\n",
      "  0.37023313  1.66031348  0.85745337  4.96159624  0.84777687  7.16245858\n",
      "  1.28568879  2.32857704  4.39953444  4.07622304  2.03982997  3.73009958\n",
      "  1.01893554  2.41117235  0.67854381  5.7185476   1.82529538  1.76784684\n",
      "  0.61579601  1.76142044  0.73376179  0.64970111  1.62994852  0.44743991\n",
      "  0.81504176  8.01800106  3.23526231  5.30447077  4.37555948  1.32183148\n",
      "  1.18916097  0.36436791  2.21421649  5.31332745  0.38277934  0.76512142\n",
      "  1.39552015  2.16153837  2.90659492  5.08020967  2.17706329  1.28866861\n",
      "  5.82811204  8.72970896  4.98633329  3.21977383]\n",
      "\n",
      "mediciones estadisticas dato1: media: 0.20015150631686432 mediana: 0.14243379942302686 std: 0.8916055143282885 varianza 0.794960393180612 Max-Min=Rango: 5.045069781587506 porcentiles: [-0.37420255  0.1424338   0.74225819]\n",
      "mediciones estadisticas dato2: media: 2.771307591264231 mediana: 2.034394088978975 std: 2.156438667815092 varianza 4.6502277280481294 Max-Min=Rango: 10.684721921205227 porcentiles: [1.22858326 2.03439409 3.94159437]\n"
     ]
    }
   ],
   "source": [
    "# TODO\n",
    "import numpy as np\n",
    "dato1 = np.random.normal(0 ,1, 100)\n",
    "dato2 = np.random.chisquare(df=3, size=100)\n",
    "print(dato1)\n",
    "print(dato2)\n",
    "\n",
    "media1 = np.mean(dato1)\n",
    "mediana1 = np.median(dato1)\n",
    "desviacion_estandar1 = np.std(dato1)\n",
    "varianza1 = np.var(dato1)\n",
    "rango1 = np.ptp(dato1)  \n",
    "percentiles1 = np.percentile(dato1, [25, 50, 75]) \n",
    "\n",
    "media2 = np.mean(dato2)\n",
    "mediana2 = np.median(dato2)\n",
    "desviacion_estandar2 = np.std(dato2)\n",
    "varianza2 = np.var(dato2)\n",
    "rango2 = np.ptp(dato2)  \n",
    "percentiles2 = np.percentile(dato2, [25, 50, 75]) \n",
    "print()\n",
    "print(\"mediciones estadisticas dato1:\", \"media:\",media1,\"mediana:\",mediana1,\"std:\",desviacion_estandar1,\"varianza\",varianza1,\"Max-Min=Rango:\",rango1,\"porcentiles:\",percentiles1)\n",
    "print(\"mediciones estadisticas dato2:\", \"media:\",media2,\"mediana:\",mediana2,\"std:\",desviacion_estandar2,\"varianza\",varianza2,\"Max-Min=Rango:\",rango2,\"porcentiles:\",percentiles2)"
   ]
  },
  {
   "cell_type": "markdown",
   "id": "46c70c3d",
   "metadata": {},
   "source": [
    "### Exercise 2\n",
    "\n",
    "Write a Python program to calculate the standard deviation of the following data:\n",
    "\n",
    "```py\n",
    "data = [4, 2, 5, 8, 6]\n",
    "```"
   ]
  },
  {
   "cell_type": "code",
   "execution_count": 23,
   "id": "d590308e",
   "metadata": {},
   "outputs": [
    {
     "data": {
      "text/plain": [
       "np.float64(2.0)"
      ]
     },
     "execution_count": 23,
     "metadata": {},
     "output_type": "execute_result"
    }
   ],
   "source": [
    "# TODO\n",
    "data = [4, 2, 5, 8, 6]\n",
    "np.std(data)\n"
   ]
  },
  {
   "cell_type": "code",
   "execution_count": null,
   "id": "757e04c1",
   "metadata": {},
   "outputs": [],
   "source": []
  }
 ],
 "metadata": {
  "kernelspec": {
   "display_name": "Python 3",
   "language": "python",
   "name": "python3"
  },
  "language_info": {
   "codemirror_mode": {
    "name": "ipython",
    "version": 3
   },
   "file_extension": ".py",
   "mimetype": "text/x-python",
   "name": "python",
   "nbconvert_exporter": "python",
   "pygments_lexer": "ipython3",
   "version": "3.11.4"
  }
 },
 "nbformat": 4,
 "nbformat_minor": 5
}
